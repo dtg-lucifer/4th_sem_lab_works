{
 "cells": [
  {
   "cell_type": "markdown",
   "id": "ee3546c9",
   "metadata": {},
   "source": [
    "# Lab 6\n"
   ]
  },
  {
   "cell_type": "markdown",
   "id": "f99f3f7f",
   "metadata": {},
   "source": [
    "### TASK 1\n",
    "\n",
    "Iterate through a string and print each character on a new line.\n"
   ]
  },
  {
   "cell_type": "code",
   "execution_count": 3,
   "id": "970283d2",
   "metadata": {},
   "outputs": [
    {
     "name": "stdout",
     "output_type": "stream",
     "text": [
      "P\n",
      "i\n",
      "u\n",
      "s\n",
      "h\n"
     ]
    }
   ],
   "source": [
    "s = \"Piush\"\n",
    "\n",
    "for c in s:\n",
    "    print(c)"
   ]
  },
  {
   "cell_type": "markdown",
   "id": "6ffac4c0",
   "metadata": {},
   "source": [
    "### TASK 2\n",
    "\n",
    "Iterate through a string (while loop) and print each character on a new line.\n"
   ]
  },
  {
   "cell_type": "code",
   "execution_count": 4,
   "id": "50e23b7f",
   "metadata": {},
   "outputs": [
    {
     "name": "stdout",
     "output_type": "stream",
     "text": [
      "P\n",
      "i\n",
      "u\n",
      "s\n",
      "h\n",
      " \n",
      "B\n",
      "o\n",
      "s\n",
      "e\n"
     ]
    }
   ],
   "source": [
    "s = \"Piush Bose\"\n",
    "\n",
    "while True:\n",
    "    try:\n",
    "        print(s[0])\n",
    "        s = s[1:]\n",
    "    except IndexError:\n",
    "        break"
   ]
  },
  {
   "cell_type": "markdown",
   "id": "65fc60a2",
   "metadata": {},
   "source": [
    "### TASK 3\n",
    "\n",
    "Split the string into list of characters and print the list.\n"
   ]
  },
  {
   "cell_type": "code",
   "execution_count": 13,
   "id": "a0901ab0",
   "metadata": {},
   "outputs": [
    {
     "name": "stdout",
     "output_type": "stream",
     "text": [
      "['New', 'String', 'with', 'spaces']\n",
      "['N', 'e', 'w', ' ', 'S', 't', 'r', 'i', 'n', 'g', ' ', 'w', 'i', 't', 'h', ' ', 's', 'p', 'a', 'c', 'e', 's']\n"
     ]
    }
   ],
   "source": [
    "s = \"New String with spaces\"\n",
    "\n",
    "w_arr = s.split(sep=\" \")\n",
    "c_arr = list(s)\n",
    "print(w_arr)\n",
    "print(c_arr)"
   ]
  },
  {
   "cell_type": "markdown",
   "id": "0eca647b",
   "metadata": {},
   "source": [
    "### TASK 4\n",
    "\n",
    "Reverse a string with while loop and slicing method\n"
   ]
  },
  {
   "cell_type": "code",
   "execution_count": 16,
   "id": "7130e51d",
   "metadata": {},
   "outputs": [
    {
     "name": "stdout",
     "output_type": "stream",
     "text": [
      "secaps htiw gnirtS weN"
     ]
    }
   ],
   "source": [
    "i = len(s) - 1\n",
    "while i >= 0:\n",
    "    print(s[i], end=\"\")\n",
    "    i -= 1"
   ]
  },
  {
   "cell_type": "code",
   "execution_count": 18,
   "id": "205b6e0c",
   "metadata": {},
   "outputs": [
    {
     "name": "stdout",
     "output_type": "stream",
     "text": [
      "secaps htiw gnirtS weN\n"
     ]
    }
   ],
   "source": [
    "print(s[::-1])"
   ]
  },
  {
   "cell_type": "markdown",
   "id": "1e88568f",
   "metadata": {},
   "source": [
    "### TASK 5\n",
    "\n",
    "Count the occurences of a character in a string and print the result.\n",
    "(With and without using function)\n"
   ]
  },
  {
   "cell_type": "code",
   "execution_count": 20,
   "id": "7e64f87e",
   "metadata": {},
   "outputs": [
    {
     "name": "stdout",
     "output_type": "stream",
     "text": [
      "Occurrences of 'n': 1\n"
     ]
    }
   ],
   "source": [
    "c = str(input(\"Enter a character: \"))\n",
    "count = 0\n",
    "\n",
    "for cc in s:\n",
    "    if cc == c:\n",
    "        count += 1\n",
    "\n",
    "print(f\"Occurrences of '{c}': {count}\")"
   ]
  },
  {
   "cell_type": "code",
   "execution_count": 22,
   "id": "cd211b84",
   "metadata": {},
   "outputs": [
    {
     "name": "stdout",
     "output_type": "stream",
     "text": [
      "Occurrences of 's': 2\n"
     ]
    }
   ],
   "source": [
    "c = str(input(\"Enter a character: \"))\n",
    "count = s.count(c)\n",
    "print(f\"Occurrences of '{c}': {count}\")"
   ]
  }
 ],
 "metadata": {
  "kernelspec": {
   "display_name": ".venv",
   "language": "python",
   "name": "python3"
  },
  "language_info": {
   "codemirror_mode": {
    "name": "ipython",
    "version": 3
   },
   "file_extension": ".py",
   "mimetype": "text/x-python",
   "name": "python",
   "nbconvert_exporter": "python",
   "pygments_lexer": "ipython3",
   "version": "3.13.2"
  }
 },
 "nbformat": 4,
 "nbformat_minor": 5
}
